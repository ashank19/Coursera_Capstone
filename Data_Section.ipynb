{
 "cells": [
  {
   "cell_type": "markdown",
   "metadata": {},
   "source": [
    "# 2. Data\n",
    "\n",
    "For this project we will use the following data :\n",
    "\n",
    "1. New york City restaurants inspection data from 2016-2019\n",
    "\n",
    "*  Data source : https://data.cityofnewyork.us/api/views/43nn-pn8j/files/ec33d2c8-81f5-499a-a238-0213a38239cd?download=true&filename=RestaurantInspectionDataDictionary_09242018.xlsx\n",
    "\n",
    "*  Description : This data set contains 386000 rows and 26 coulmns with Restaurant Name, Street Name, violation descriptions along with their latitude and longitude. This data will be downloaded and used.\n",
    "\n",
    "2. Ratings of Indian resturants for selected locality in New york City\n",
    "\n",
    "* Data source : Fousquare API\n",
    "\n",
    "*  Description : By using this api we will get all the ratings for Indian restaurants in selected neighborhood\n",
    "\n",
    "# 3.Methodology\n",
    "\n",
    "1. Collect the New york City Restaurants Inspection data from https://data.cityofnewyork.us/api/views/43nn-pn8j/files/ec33d2c8-81f5-499a-a238-0213a38239cd?download=true&filename=RestaurantInspectionDataDictionary_09242018.xlsx\n",
    "\n",
    "2. Analyze the restaurants based on their risk category\n",
    "\n",
    "3. Building machine learning classifier model for predicting the risk category the resturants are placed\n",
    "\n",
    "4. Filtering out all venues from the inspection data that are Indian Resturants.\n",
    "\n",
    "5. Visualize the Indian Restaurants using folium library(python)\n",
    "\n",
    "6. Find rating ,tips and like count for each Indian Resturants using FourSquare API.\n",
    "\n",
    "7. Analyze the prospects for setting up a new Indian Restuarant in New york City."
   ]
  }
 ],
 "metadata": {
  "kernelspec": {
   "display_name": "Python 3",
   "language": "python",
   "name": "python3"
  },
  "language_info": {
   "codemirror_mode": {
    "name": "ipython",
    "version": 3
   },
   "file_extension": ".py",
   "mimetype": "text/x-python",
   "name": "python",
   "nbconvert_exporter": "python",
   "pygments_lexer": "ipython3",
   "version": "3.6.7"
  }
 },
 "nbformat": 4,
 "nbformat_minor": 2
}
