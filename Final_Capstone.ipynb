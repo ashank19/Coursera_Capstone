{
 "cells": [
  {
   "cell_type": "markdown",
   "metadata": {},
   "source": [
    "# Coursera Capstone Project for Applied Data Science Capstone by IBM - Week 1\n",
    "**By Arnav Ashank**"
   ]
  },
  {
   "cell_type": "markdown",
   "metadata": {},
   "source": [
    "# 1. Introduction"
   ]
  },
  {
   "cell_type": "markdown",
   "metadata": {},
   "source": [
    "## 1.1. Background\n",
    "\n",
    "New york city is the most populous city in U.S. and is home to many immigrant population in New York after. Furthermore, it is the largest metropolitan area in the world with 18 million people as of 2010 with an estimated population of 18,897,109 residents.\n",
    "Being a metropolitan city, New york city is also home to many restaurants which serves wide variety of cuisines. Owing to significant number of Indian expatriate population, New york City and its nearby Suburbs have handful of Indian restaurant.\n",
    "\n",
    "So, as a part of this project Indian restaurants in New york City will be listed, visualized and rated.\n",
    "\n",
    "## 1.2. Problem Description\n",
    "\n",
    "By utilizing the New york City restaurants inspection data, Indian Restaurants in New york City and their risk category will be Analyzed. Secondly, a classsifier model will be built to predict the risk categories of resturants. Furthermore, using the foursqure API we will get the ratings of Indian Restaurants in New york City.\n",
    "\n",
    "## 1.3. Target Audience\n",
    "* People looking to open new restaurants\n",
    "* Restaurants\n",
    "* Travelers who love Indian food"
   ]
  },
  {
   "cell_type": "markdown",
   "metadata": {},
   "source": [
    "# 2. Data"
   ]
  },
  {
   "cell_type": "markdown",
   "metadata": {},
   "source": [
    "For this project we will use the following data :\n",
    "\n",
    "1. New york City restaurants inspection data from 2016-2019\n",
    "\n",
    "*  Data source : https://data.cityofnewyork.us/api/views/43nn-pn8j/files/ec33d2c8-81f5-499a-a238-0213a38239cd?download=true&filename=RestaurantInspectionDataDictionary_09242018.xlsx\n",
    "\n",
    "*  Description : This data set contains 386000 rows and 26 coulmns with Restaurant Name, Street Name, violation descriptions along with their latitude and longitude. This data will be downloaded and used.\n",
    "\n",
    "2. Ratings of Indian resturants for selected locality in New york City\n",
    "\n",
    "* Data source : Fousquare API\n",
    "\n",
    "*  Description : By using this api we will get all the ratings for Indian restaurants in selected neighborhood"
   ]
  },
  {
   "cell_type": "markdown",
   "metadata": {},
   "source": [
    "# 3.Methodology"
   ]
  },
  {
   "cell_type": "markdown",
   "metadata": {},
   "source": [
    "1. Collect the New york City Restaurants Inspection data from https://data.cityofnewyork.us/api/views/43nn-pn8j/files/ec33d2c8-81f5-499a-a238-0213a38239cd?download=true&filename=RestaurantInspectionDataDictionary_09242018.xlsx\n",
    "\n",
    "2. Analyze the restaurants based on their risk category\n",
    "\n",
    "3. Building machine learning classifier model for predicting the risk category the resturants are placed\n",
    "\n",
    "4. Filtering out all venues from the inspection data that are Indian Resturants.\n",
    "\n",
    "5. Visualize the Indian Restaurants using folium library(python)\n",
    "\n",
    "6. Find rating ,tips and like count for each Indian Resturants using FourSquare API.\n",
    "\n",
    "7. Analyze the prospects for setting up a new Indian Restuarant in New york City."
   ]
  }
 ],
 "metadata": {
  "kernelspec": {
   "display_name": "Python 3",
   "language": "python",
   "name": "python3"
  },
  "language_info": {
   "codemirror_mode": {
    "name": "ipython",
    "version": 3
   },
   "file_extension": ".py",
   "mimetype": "text/x-python",
   "name": "python",
   "nbconvert_exporter": "python",
   "pygments_lexer": "ipython3",
   "version": "3.6.7"
  }
 },
 "nbformat": 4,
 "nbformat_minor": 2
}
